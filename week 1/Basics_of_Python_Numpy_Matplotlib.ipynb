{
 "cells": [
  {
   "cell_type": "markdown",
   "metadata": {
    "id": "-URkc1yTZ4GZ"
   },
   "source": [
    "# IoT·인공지능·빅데이터 개론 및 실습 (M2177.004900_001) <br> 9/3 Basics of Python, Numpy, and Matplotlib\n",
    "\n",
    "Adapted by Seonwoo Min from the IPython version of the `CS231n` Python tutorial (http://cs231n.github.io/python-numpy-tutorial/).\n",
    "* 2019/3/6 Byunggook Na edited typos and refinded the contents.\n",
    "* 2020/8/26 Hyeokjun Choe edited typos and refinded the contents.\n",
    "\n",
    "In this excercise, we will cover:\n",
    "\n",
    "* Basic Python: List, Dictionary, Function, Class\n",
    "* Numpy: Array, Array indexing, Array math\n",
    "* Matplotlib: Plotting, Subplot"
   ]
  },
  {
   "cell_type": "markdown",
   "metadata": {
    "id": "4x0PX65tZ4Ga"
   },
   "source": [
    "## 1. Basic Python"
   ]
  },
  {
   "cell_type": "markdown",
   "metadata": {
    "id": "M5XF1FIjZ4Gb"
   },
   "source": [
    "### List\n",
    "A list is the Python equivalent of an array, but is resizeable and can contain elements of different types"
   ]
  },
  {
   "cell_type": "code",
   "execution_count": 1,
   "metadata": {
    "id": "6jzBMsMaZ4Gc"
   },
   "outputs": [
    {
     "name": "stdout",
     "output_type": "stream",
     "text": [
      "2\n",
      "[3, 1, 2, 0]\n",
      "0 [3, 1, 2]\n"
     ]
    }
   ],
   "source": [
    "#############################################################\n",
    "# General Usage\n",
    "#############################################################\n",
    "xs = [3, 1, 2]\n",
    "\n",
    "# Print the last indice\n",
    "# Negative indices count from the end of the list\n",
    "print(xs[-1]) \n",
    "\n",
    "# Add a new element to the end of the list\n",
    "xs.append(0)\n",
    "\n",
    "print(xs)  \n",
    "\n",
    "# Remove and return the last element of the list\n",
    "x = xs.pop()\n",
    "\n",
    "print(x, xs)"
   ]
  },
  {
   "cell_type": "code",
   "execution_count": 4,
   "metadata": {
    "id": "2KE-0fRvZ4Gh"
   },
   "outputs": [
    {
     "name": "stdout",
     "output_type": "stream",
     "text": [
      "[0, 1, 2, 3, 4]\n",
      "[2, 3]\n",
      "[2, 3, 4]\n",
      "[0, 1]\n",
      "[0, 1, 2, 3, 4]\n",
      "[0, 1, 8, 9, 4]\n"
     ]
    }
   ],
   "source": [
    "#############################################################\n",
    "# Slicing\n",
    "#############################################################\n",
    "# Create a list containing [0, 1, 2, 3, 4]\n",
    "# range() is a built-in function that creates a list of integers\n",
    "nums = list(range(5))\n",
    "print(nums)        \n",
    "\n",
    "# Get a slice from index 2 to 4 (exclusive); prints \"[2, 3]\"\n",
    "print(nums[2:4])\n",
    "\n",
    "# Get a slice from index 2 to the end; prints \"[2, 3, 4]\"\n",
    "print(nums[2:])    \n",
    "\n",
    "# Get a slice from the start to index 2 (exclusive); prints \"[0, 1]\"\n",
    "print(nums[:2])    \n",
    "\n",
    "# Get a slice of the whole list; prints [\"0, 1, 2, 3, 4]\"\n",
    "print(nums[:])     \n",
    "\n",
    "# Assign a new sublist to a slice; change nums into [0, 1, 8, 9, 4]\n",
    "nums[2:4] = [8, 9]\n",
    "\n",
    "print(nums)"
   ]
  },
  {
   "cell_type": "code",
   "execution_count": 6,
   "metadata": {
    "id": "v936lm-nZ4Gl"
   },
   "outputs": [
    {
     "name": "stdout",
     "output_type": "stream",
     "text": [
      "cat\n",
      "dog\n",
      "monkey\n",
      "0 cat\n",
      "1 dog\n",
      "2 monkey\n"
     ]
    }
   ],
   "source": [
    "#############################################################\n",
    "# Loop & Enumerate\n",
    "#############################################################\n",
    "animals = ['cat', 'dog', 'monkey']\n",
    "\n",
    "# Loop over and print the elements of the list:\n",
    "for animal in animals:\n",
    "    print(animal)\n",
    "    \n",
    "# Loop over and print the index and value of each elements of the list:\n",
    "for i, animal in enumerate(animals):\n",
    "    print(i, animal)"
   ]
  },
  {
   "cell_type": "code",
   "execution_count": 7,
   "metadata": {
    "id": "otf1fcLwZ4Gp"
   },
   "outputs": [
    {
     "name": "stdout",
     "output_type": "stream",
     "text": [
      "[0, 1, 4, 9, 16]\n",
      "[0, 1, 4, 9, 16]\n",
      "[0, 4, 16]\n"
     ]
    }
   ],
   "source": [
    "#############################################################\n",
    "# List comprehensions\n",
    "#############################################################\n",
    "nums = [0, 1, 2, 3, 4]\n",
    "squares = []\n",
    "for x in nums:\n",
    "    squares.append(x ** 2)\n",
    "print(squares)\n",
    "\n",
    "# Make this code simpler using a list comprehension\n",
    "squares = [x ** 2 for x in nums]\n",
    "print(squares)\n",
    "\n",
    "# Make a list of squares of even numbers in the list\n",
    "# List comprehensions can also contain conditions\n",
    "even_squares = [x ** 2 for x in nums if x % 2 == 0]\n",
    "print(even_squares)"
   ]
  },
  {
   "cell_type": "markdown",
   "metadata": {
    "id": "jTG2Z435Z4Gt"
   },
   "source": [
    "### Dictionary\n",
    "A dictionary stores (key, value) pairs"
   ]
  },
  {
   "cell_type": "code",
   "execution_count": 8,
   "metadata": {
    "id": "dJoUIq6aZ4Gu"
   },
   "outputs": [
    {
     "name": "stdout",
     "output_type": "stream",
     "text": [
      "cute\n",
      "wet\n",
      "N/A\n",
      "{'cat': 'cute', 'dog': 'furry'}\n"
     ]
    }
   ],
   "source": [
    "#############################################################\n",
    "# General Usage\n",
    "#############################################################\n",
    "# Create a dictionary containing the followings key:value pairs\n",
    "# cat:cute  /  dog:furry\n",
    "d = {'cat': 'cute', 'dog': 'furry'} \n",
    "\n",
    "# print an entry 'cat' from a dictionary; prints 'cute'\n",
    "print(d['cat'])      \n",
    "\n",
    "# Add another key:value pair\n",
    "# fish:wet\n",
    "d['fish'] = 'wet'\n",
    "\n",
    "# Get an element with a default parameter; return \"N/A\" if not exists\n",
    "# fish / monkey\n",
    "print(d.get('fish', 'N/A'))\n",
    "print(d.get('monkey', 'N/A'))  \n",
    "\n",
    "# Remove 'fish' from the dictionary\n",
    "del d['fish']\n",
    "\n",
    "print(d)"
   ]
  },
  {
   "cell_type": "code",
   "execution_count": 9,
   "metadata": {
    "id": "F6laXBb-Z4Gy"
   },
   "outputs": [
    {
     "name": "stdout",
     "output_type": "stream",
     "text": [
      "A person has 2 legs\n",
      "A cat has 4 legs\n",
      "A spider has 8 legs\n",
      "A person has 2 legs\n",
      "A cat has 4 legs\n",
      "A spider has 8 legs\n",
      "{0: 0, 2: 4, 4: 16}\n"
     ]
    }
   ],
   "source": [
    "#############################################################\n",
    "# Loop & Dictionary comprehensions\n",
    "#############################################################\n",
    "d = {'person': 2, 'cat': 4, 'spider': 8}\n",
    "\n",
    "# Loop over keys of the dictionary\n",
    "# Access the values with the keys\n",
    "for animal in d:\n",
    "    legs = d[animal]\n",
    "    print('A %s has %d legs' % (animal, legs))\n",
    "    \n",
    "# Loop over keys and values of the dictionary\n",
    "for animal, legs in d.items():\n",
    "    print('A %s has %d legs' % (animal, legs))\n",
    "\n",
    "# Make a dictionary of key:squares of even numbers in the list\n",
    "# Dictionary comprehensions can also contain conditions\n",
    "nums = [0, 1, 2, 3, 4]\n",
    "even_num_to_square = {x: x ** 2 for x in nums if x % 2 == 0}\n",
    "print(even_num_to_square)"
   ]
  },
  {
   "cell_type": "markdown",
   "metadata": {
    "id": "dw5W9CC3Z4G2"
   },
   "source": [
    "### Function\n",
    "Python functions are defined using the `def` keyword"
   ]
  },
  {
   "cell_type": "code",
   "execution_count": 10,
   "metadata": {
    "id": "3fmqPUKTZ4G3"
   },
   "outputs": [
    {
     "name": "stdout",
     "output_type": "stream",
     "text": [
      "negative\n",
      "zero\n",
      "positive\n"
     ]
    }
   ],
   "source": [
    "#############################################################\n",
    "# General Usage\n",
    "#############################################################\n",
    "# Define a function called sign() with argument x\n",
    "# return 'positive' if x > 0\n",
    "# return 'negative' if x < 0\n",
    "# return 'zero' if x = 0\n",
    "def sign(x):\n",
    "    if x > 0:\n",
    "        return 'positive'\n",
    "    elif x < 0:\n",
    "        return 'negative'\n",
    "    else:\n",
    "        return 'zero'\n",
    "\n",
    "for x in [-1, 0, 1]:\n",
    "    print(sign(x))"
   ]
  },
  {
   "cell_type": "code",
   "execution_count": 12,
   "metadata": {
    "id": "kKX-xxB1Z4G6"
   },
   "outputs": [
    {
     "name": "stdout",
     "output_type": "stream",
     "text": [
      "HELLO, Bob!\n",
      "HELLO, FRED!\n"
     ]
    }
   ],
   "source": [
    "#############################################################\n",
    "# Optional keyword argument\n",
    "#############################################################\n",
    "# Define a function called hello()\n",
    "# argument: name\n",
    "# optional argument: loud (with default value False)\n",
    "# print \"HELLO, [name in large letter]\" if loud = True\n",
    "# print \"HELLO, [name in given form]\" if loud = False\n",
    "def hello(name, loud=False):\n",
    "    if loud:\n",
    "        print('HELLO, %s!' % name.upper())\n",
    "    else:\n",
    "        print('HELLO, %s!' % name)\n",
    "        \n",
    "hello('Bob')\n",
    "hello('Fred', loud=True)"
   ]
  },
  {
   "cell_type": "markdown",
   "metadata": {
    "id": "NLdVOnhrZ4G-"
   },
   "source": [
    "### Class\n",
    "Python classes are defined using the `class` keyword"
   ]
  },
  {
   "cell_type": "code",
   "execution_count": 13,
   "metadata": {
    "id": "n8LI5HakZ4G_"
   },
   "outputs": [
    {
     "name": "stdout",
     "output_type": "stream",
     "text": [
      "HELLO, Fred!\n",
      "HELLO, FRED!\n",
      "HELLO, Alice!\n",
      "HELLO, ALICE!\n"
     ]
    }
   ],
   "source": [
    "#############################################################\n",
    "# General Usage\n",
    "#############################################################\n",
    "# Define a class called Greeter\n",
    "# Initialize its member variable <self.name> with a argument <name> whose default value is \"Alice\"\n",
    "# Define its member function called greet() that prints statements as in the above Function example\n",
    "class Greeter:\n",
    "    def __init__(self, name = 'Alice'):\n",
    "        self.name = name\n",
    "    \n",
    "    def greet(self, loud=False):\n",
    "        if loud:\n",
    "            print('HELLO, %s!' % self.name.upper())\n",
    "        else:\n",
    "            print('HELLO, %s!' % self.name)\n",
    "\n",
    "g1 = Greeter('Fred')  \n",
    "g1.greet()            \n",
    "g1.greet(loud=True)  \n",
    "\n",
    "g2 = Greeter()  \n",
    "g2.greet()            \n",
    "g2.greet(loud=True)"
   ]
  },
  {
   "cell_type": "markdown",
   "metadata": {
    "id": "hRPsHE9dZ4HD"
   },
   "source": [
    "## 2. Numpy"
   ]
  },
  {
   "cell_type": "code",
   "execution_count": 14,
   "metadata": {
    "id": "zHcrYdv8Z4HE"
   },
   "outputs": [],
   "source": [
    "import numpy as np"
   ]
  },
  {
   "cell_type": "markdown",
   "metadata": {
    "id": "rSYwbYloZ4HH"
   },
   "source": [
    "### Array\n",
    "A numpy array is a grid of values, all of the same type, and is indexed by a tuple of nonnegative integers."
   ]
  },
  {
   "cell_type": "code",
   "execution_count": 15,
   "metadata": {
    "id": "Xsr3rssFZ4HI"
   },
   "outputs": [
    {
     "name": "stdout",
     "output_type": "stream",
     "text": [
      "[[0. 0.]\n",
      " [0. 0.]]\n",
      "[[1. 1.]\n",
      " [1. 1.]]\n",
      "[[0.13816439 0.15987227]\n",
      " [0.18049972 0.82284659]]\n",
      "[1 2 3 4 5 6]\n",
      "[[1 2 3]\n",
      " [4 5 6]]\n",
      "(2, 3)\n",
      "4\n"
     ]
    }
   ],
   "source": [
    "# Create an 2-by-2 array of all zeros \n",
    "a = np.zeros((2,2))\n",
    "print(a)\n",
    "\n",
    "# Create an 2-by-2 array of all ones \n",
    "a = np.ones((2,2))\n",
    "print(a)\n",
    "\n",
    "# Create an 2-by-2 array with random numbers\n",
    "a = np.random.random((2,2))\n",
    "print(a)\n",
    "\n",
    "# Create an 1-by-6 array with elements 1 to 6\n",
    "a = np.array([1, 2, 3, 4, 5, 6])\n",
    "print(a)\n",
    "\n",
    "#Create a rank 2 array with elements 1 to 6\n",
    "b = np.array([[1, 2, 3], [4, 5, 6]])\n",
    "print(b)\n",
    "\n",
    "# print shape of the array\n",
    "print(b.shape)    \n",
    "\n",
    "# print the element in the 1 in 1st index and 0 in 2nd index\n",
    "print(b[1][0])"
   ]
  },
  {
   "cell_type": "markdown",
   "metadata": {
    "id": "-E4U5gf3Z4HN"
   },
   "source": [
    "### Array indexing\n",
    "Since arrays may be multidimensional, you must specify a slice for each dimension of the array"
   ]
  },
  {
   "cell_type": "code",
   "execution_count": 16,
   "metadata": {
    "id": "7d-FXUVcZ4HN"
   },
   "outputs": [
    {
     "name": "stdout",
     "output_type": "stream",
     "text": [
      "[[ 1  2  3  4]\n",
      " [ 5  6  7  8]\n",
      " [ 9 10 11 12]]\n",
      "[[2 3]\n",
      " [6 7]]\n",
      "0 0\n",
      "[[2 3]\n",
      " [6 7]]\n",
      "0 2\n",
      "[ 1  7 10]\n",
      "[[11  2  3  4]\n",
      " [ 5  6 17  8]\n",
      " [ 9 20 11 12]]\n"
     ]
    }
   ],
   "source": [
    "# Create an 3-by-4 array with elements 1 to 12\n",
    "# Use reshape\n",
    "a = np.arange(1, 13).reshape(3, 4)\n",
    "print(a)\n",
    "\n",
    "# Use slicing to pull out the subarray consisting of the first two rows and columns 1 and 2; \n",
    "# and modify [0, 0] element of the array b into 0\n",
    "b = a[:2, 1:3]\n",
    "print(b)\n",
    "\n",
    "b[0, 0] = 0\n",
    "print(b[0,0], a[0, 1])\n",
    "b[0,0] = 2 # reset\n",
    "\n",
    "# Instead create an array with the subarray consisting of the first two rows and columns 1 and 2; \n",
    "# and modify [0, 0] element of the array b into 0\n",
    "b = np.array(a[:2, 1:3])\n",
    "print(b)\n",
    "\n",
    "b[0, 0] = 0\n",
    "print(b[0,0], a[0, 1])\n",
    "\n",
    "# Get elements located by the [0, 2, 1] indices from each row of a matrix: [0,0], [1,2], [2,1]\n",
    "indices = np.array([0, 2, 1])\n",
    "print(a[np.arange(3), indices])\n",
    "\n",
    "# Add 10 to the [0, 2, 1] indices from each row of a matrix\n",
    "a[np.arange(3), indices] += 10\n",
    "print(a)"
   ]
  },
  {
   "cell_type": "markdown",
   "metadata": {
    "id": "O3SLOjcCZ4HQ"
   },
   "source": [
    "### Array math\n",
    "Basic mathematical functions operate elementwise on arrays, and are available both as operator overloads and as functions in the numpy module"
   ]
  },
  {
   "cell_type": "code",
   "execution_count": 17,
   "metadata": {
    "id": "bA0mrBaxZ4HR"
   },
   "outputs": [
    {
     "name": "stdout",
     "output_type": "stream",
     "text": [
      "[[ 5. 12.]\n",
      " [21. 32.]]\n",
      "[[19. 22.]\n",
      " [43. 50.]]\n",
      "10.0\n",
      "[4. 6.]\n",
      "[3. 7.]\n"
     ]
    }
   ],
   "source": [
    "#############################################################\n",
    "# General Usage\n",
    "#############################################################\n",
    "x = np.array([[1,2],[3,4]], dtype=np.float64)\n",
    "y = np.array([[5,6],[7,8]], dtype=np.float64)\n",
    "\n",
    "# Elementwise product of x and y\n",
    "z = x * y\n",
    "print(z)\n",
    "\n",
    "# Matrix product of x and y\n",
    "z = np.dot(x, y)\n",
    "print(z)\n",
    "\n",
    "# Compute sum of all elements in x\n",
    "z = np.sum(x)\n",
    "print(z)  \n",
    "\n",
    "# Compute sum of each column in x;\n",
    "z = np.sum(x, axis=0)\n",
    "print(z) \n",
    "\n",
    "# Compute sum of each row in x\n",
    "z = np.sum(x, axis=1)\n",
    "print(z)"
   ]
  },
  {
   "cell_type": "code",
   "execution_count": 18,
   "metadata": {
    "id": "4K0WKNzKZ4HV"
   },
   "outputs": [
    {
     "name": "stdout",
     "output_type": "stream",
     "text": [
      "[[ 2  2  4]\n",
      " [ 5  5  7]\n",
      " [ 8  8 10]\n",
      " [11 11 13]]\n",
      "[[ 2  2  4]\n",
      " [ 5  5  7]\n",
      " [ 8  8 10]\n",
      " [11 11 13]]\n",
      "[[ 2  2  4]\n",
      " [ 5  5  7]\n",
      " [ 8  8 10]\n",
      " [11 11 13]]\n",
      "[[ 2  4  6]\n",
      " [ 8 10 12]\n",
      " [14 16 18]\n",
      " [20 22 24]]\n"
     ]
    }
   ],
   "source": [
    "#############################################################\n",
    "# Broadcasting\n",
    "#############################################################\n",
    "x = np.array([[1,2,3], [4,5,6], [7,8,9], [10, 11, 12]])\n",
    "v = np.array([1, 0, 1])\n",
    "y = np.empty_like(x) \n",
    "\n",
    "# Add the vector v to each row of the matrix x with an explicit loop\n",
    "for i in range(4):\n",
    "    y[i, :] = x[i, :] + v\n",
    "\n",
    "print(y)\n",
    "\n",
    "# Add the vector v to each row of the matrix x with stacking v multiple times\n",
    "vv = np.tile(v, (4, 1))\n",
    "y = x + v\n",
    "print(y)\n",
    "\n",
    "# Add the vector v to each row of the matrix x with broadcasting\n",
    "y = x + v\n",
    "print(y)\n",
    "\n",
    "# Multiply matrix x by a constant 2:\n",
    "z = x * 2\n",
    "print(z)"
   ]
  },
  {
   "cell_type": "markdown",
   "metadata": {
    "id": "JfVAzU-SZ4HY"
   },
   "source": [
    "## 3. Matplotlib"
   ]
  },
  {
   "cell_type": "markdown",
   "metadata": {
    "id": "TwWERhCzZ4HZ"
   },
   "source": [
    "Matplotlib is a plotting library. In this section give a brief introduction to the `matplotlib.pyplot` module."
   ]
  },
  {
   "cell_type": "code",
   "execution_count": 19,
   "metadata": {
    "id": "7htZpdnWZ4Ha"
   },
   "outputs": [],
   "source": [
    "import matplotlib.pyplot as plt\n",
    "\n",
    "#By running this special iPython command, we will be displaying plots inline:\n",
    "%matplotlib inline"
   ]
  },
  {
   "cell_type": "markdown",
   "metadata": {
    "id": "ytG8gj6ZZ4Hd"
   },
   "source": [
    "### Plotting\n",
    "The most important function in `matplotlib` is plot, which allows you to plot 2D data. Here is a simple example:"
   ]
  },
  {
   "cell_type": "code",
   "execution_count": 20,
   "metadata": {
    "id": "oWxsMTpAZ4He"
   },
   "outputs": [],
   "source": [
    "# Compute the x and y coordinates for points on a sine curve\n",
    "x = np.arange(0, 3 * np.pi, 0.3)\n",
    "y = np.sin(x)"
   ]
  },
  {
   "cell_type": "code",
   "execution_count": 21,
   "metadata": {
    "id": "CntsHZFKZ4Hh"
   },
   "outputs": [
    {
     "data": {
      "text/plain": [
       "[<matplotlib.lines.Line2D at 0x7fbbb699ef70>]"
      ]
     },
     "execution_count": 21,
     "metadata": {},
     "output_type": "execute_result"
    },
    {
     "data": {
      "image/png": "[encoded data removed]",
      "text/plain": [
       "<Figure size 432x288 with 1 Axes>"
      ]
     },
     "metadata": {
      "needs_background": "light"
     },
     "output_type": "display_data"
    }
   ],
   "source": [
    "# Plot the points using matplotlib\n",
    "plt.plot(x, y, '-')"
   ]
  },
  {
   "cell_type": "code",
   "execution_count": 22,
   "metadata": {
    "id": "Tf4Z-ayfZ4Hl"
   },
   "outputs": [
    {
     "data": {
      "text/plain": [
       "[<matplotlib.lines.Line2D at 0x7fbbb6906760>]"
      ]
     },
     "execution_count": 22,
     "metadata": {},
     "output_type": "execute_result"
    },
    {
     "data": {
      "image/png": "[encoded data removed]",
      "text/plain": [
       "<Figure size 432x288 with 1 Axes>"
      ]
     },
     "metadata": {
      "needs_background": "light"
     },
     "output_type": "display_data"
    }
   ],
   "source": [
    "# Plot the points using matplotlib\n",
    "plt.plot(x, y, 'o')"
   ]
  },
  {
   "cell_type": "code",
   "execution_count": 23,
   "metadata": {
    "id": "qCupHYC5Z4Ho"
   },
   "outputs": [
    {
     "data": {
      "text/plain": [
       "[<matplotlib.lines.Line2D at 0x7fbbb686d1c0>]"
      ]
     },
     "execution_count": 23,
     "metadata": {},
     "output_type": "execute_result"
    },
    {
     "data": {
      "image/png": "[encoded data removed]",
      "text/plain": [
       "<Figure size 432x288 with 1 Axes>"
      ]
     },
     "metadata": {
      "needs_background": "light"
     },
     "output_type": "display_data"
    }
   ],
   "source": [
    "# Plot the points using matplotlib\n",
    "plt.plot(x, y, '-o')"
   ]
  },
  {
   "cell_type": "code",
   "execution_count": 24,
   "metadata": {
    "id": "HOAOjJcwZ4Hr"
   },
   "outputs": [
    {
     "data": {
      "text/plain": [
       "<matplotlib.legend.Legend at 0x7fbbb6829970>"
      ]
     },
     "execution_count": 24,
     "metadata": {},
     "output_type": "execute_result"
    },
    {
     "data": {
      "image/png": "[encoded data removed]",
      "text/plain": [
       "<Figure size 432x288 with 1 Axes>"
      ]
     },
     "metadata": {
      "needs_background": "light"
     },
     "output_type": "display_data"
    }
   ],
   "source": [
    "y_sin = np.sin(x)\n",
    "y_cos = np.cos(x)\n",
    "\n",
    "# Plot the points using matplotlib\n",
    "plt.plot(x, y_sin)\n",
    "plt.plot(x, y_cos)\n",
    "plt.xlabel('x axis label')\n",
    "plt.ylabel('y axis label')\n",
    "plt.title('Sine and Cosine')\n",
    "plt.legend(['Sine', 'Cosine'])"
   ]
  },
  {
   "cell_type": "markdown",
   "metadata": {
    "id": "VJkPpql5Z4Hv"
   },
   "source": [
    "### Subplots \n",
    "You can plot different things in the same figure using the subplot function. Here is an example:"
   ]
  },
  {
   "cell_type": "code",
   "execution_count": 25,
   "metadata": {
    "id": "DP8VonWtZ4Hv"
   },
   "outputs": [
    {
     "data": {
      "image/png": "[encoded data removed]",
      "text/plain": [
       "<Figure size 432x288 with 2 Axes>"
      ]
     },
     "metadata": {
      "needs_background": "light"
     },
     "output_type": "display_data"
    }
   ],
   "source": [
    "# Compute the x and y coordinates for points on sine and cosine curves\n",
    "x = np.arange(0, 3 * np.pi, 0.1)\n",
    "y_sin = np.sin(x)\n",
    "y_cos = np.cos(x)\n",
    "\n",
    "# Set up a subplot grid that has height 2 and width 1,\n",
    "# and set the first such subplot as active, and make the first plot.\n",
    "plt.subplot(2, 1, 1)\n",
    "plt.plot(x, y_sin)\n",
    "plt.title('Sine')\n",
    "\n",
    "# Set the second subplot as active, and make the second plot.\n",
    "plt.subplot(2, 1, 2)\n",
    "plt.plot(x, y_cos)\n",
    "plt.title('Cosine')\n",
    "\n",
    "# Show the figure.\n",
    "plt.show()"
   ]
  }
 ],
 "metadata": {
  "colab": {
   "collapsed_sections": [],
   "name": "Basics_of_Python_Numpy_Matplotlib.ipynb",
   "provenance": []
  },
  "kernelspec": {
   "display_name": "Python 3",
   "language": "python",
   "name": "python3"
  },
  "language_info": {
   "codemirror_mode": {
    "name": "ipython",
    "version": 3
   },
   "file_extension": ".py",
   "mimetype": "text/x-python",
   "name": "python",
   "nbconvert_exporter": "python",
   "pygments_lexer": "ipython3",
   "version": "3.8.5"
  }
 },
 "nbformat": 4,
 "nbformat_minor": 1
}
