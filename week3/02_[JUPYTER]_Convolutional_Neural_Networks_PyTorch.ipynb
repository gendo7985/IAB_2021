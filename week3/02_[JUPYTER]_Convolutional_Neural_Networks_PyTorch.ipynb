{
 "cells": [
  {
   "cell_type": "markdown",
   "metadata": {},
   "source": [
    "# PyTorch를 이용해서 Convolutional Neural Network 정의해보기"
   ]
  },
  {
   "cell_type": "markdown",
   "metadata": {},
   "source": [
    "# 딥러닝 모델을 학습시키기 위해 준비되어야 할 4가지 요소\n",
    "\n",
    "**1. 데이터**\n",
    "2. 모델\n",
    "3. Loss function (손실함수, 목적함수, objective function 등으로 불려요): 정답과 모델의 예측값을 어떤 식으로 비교할지 결정해주는 함수\n",
    "4. Optimizer: gradient descent를 해줄 애. 즉, 모델의 파라미터를 어느 방향으로 조금 수정할지 결정하고 수정해주는 함수"
   ]
  },
  {
   "cell_type": "code",
   "execution_count": 1,
   "metadata": {},
   "outputs": [],
   "source": [
    "%matplotlib inline\n",
    "\n",
    "import torch\n",
    "import torchvision\n",
    "import torchvision.transforms as transforms\n",
    "\n",
    "import os\n",
    "import random\n",
    "import numpy as np\n",
    "from six.moves import range\n",
    "from six.moves import cPickle as pickle\n",
    "\n",
    "import matplotlib.pyplot as plt"
   ]
  },
  {
   "cell_type": "markdown",
   "metadata": {},
   "source": [
    "## 모델에 데이터 넣을 준비하기\n",
    "\n",
    "우선 사용하고 싶은 데이터 파일이 있다면 \n",
    "1. 그걸 우선 numpy array 형식으로 불러와야 해요.\n",
    "2. 그리고는 필요한 전처리를 해준 후에 \n",
    "3. 이 numpy array를 `torch.*Tensor` 형식으로 변환하고 \n",
    "4. dataloader에 넣어주면 pytorch로 짠 딥러닝 모델에 넣을 준비가 된 거예요.\n",
    "\n",
    "대개 이제 이런 데이터 처리를 도와주는 패키지들이 있는데<br/>\n",
    "이미지는 openCV, Pillow를 많이 쓰고,<br/>\n",
    "텍스트에는 SpaCy를 많이 사용합니다. <br/>\n",
    "\n",
    "여기서는 매우 간단한 이미지 데이터를 사용하므로 별도의 패키지를 쓰지는 않을게요 "
   ]
  },
  {
   "cell_type": "markdown",
   "metadata": {},
   "source": [
    "### 1. 데이터셋 불러오기\n",
    "\n",
    "이미 앞서서 numpy형식으로 저장을 해뒀죠? <br/>\n",
    "그러니까 그냥 로드만 해주면 됩니다. <br/>\n",
    "고마워 pickle! <br/>"
   ]
  },
  {
   "cell_type": "code",
   "execution_count": 2,
   "metadata": {},
   "outputs": [
    {
     "name": "stdout",
     "output_type": "stream",
     "text": [
      "Training set (50000, 28, 28) (50000,)\n",
      "Test set (5000, 28, 28) (5000,)\n"
     ]
    }
   ],
   "source": [
    "pickle_file = 'data/notMNIST.pickle'\n",
    "\n",
    "with open(pickle_file, 'rb') as f:\n",
    "    save = pickle.load(f)\n",
    "    train_dataset = save['train_dataset']\n",
    "    train_labels = save['train_labels']\n",
    "    test_dataset = save['test_dataset']\n",
    "    test_labels = save['test_labels']\n",
    "    del save  # garbage collector(gc)에게 \"이거 지워도 된단다\"라고 넌지시 알려주기 \n",
    "    print('Training set', train_dataset.shape, train_labels.shape)\n",
    "    print('Test set', test_dataset.shape, test_labels.shape)"
   ]
  },
  {
   "cell_type": "markdown",
   "metadata": {},
   "source": [
    "### ~심심하니까~ 이미지 한 번 더 확인해줍니다"
   ]
  },
  {
   "cell_type": "code",
   "execution_count": 3,
   "metadata": {},
   "outputs": [
    {
     "name": "stdout",
     "output_type": "stream",
     "text": [
      "==== 트레이닝 데이터 예시 ====\n",
      "[6 3 0 1 8 4 1 9 2 0]\n"
     ]
    },
    {
     "data": {
      "image/png": "[encoded data removed]",
      "text/plain": [
       "<Figure size 432x288 with 10 Axes>"
      ]
     },
     "metadata": {
      "needs_background": "light"
     },
     "output_type": "display_data"
    }
   ],
   "source": [
    "Row = 2\n",
    "Column = 5\n",
    "classes = ['A', 'B', 'C', 'D', 'E', 'F', 'G', 'H', 'I', 'J']\n",
    "\n",
    "print(\"==== 트레이닝 데이터 예시 ====\")\n",
    "rand = random.randint(0, 29989)  # 그냥 아무 랜덤한 이미지들을 뽑아내기 위해서 index 역할을 해줄 숫자 하나를 뽑아볼게요.\n",
    "images = train_dataset[rand:rand+10]\n",
    "labels = train_labels[rand:rand+10]\n",
    "print(labels)\n",
    "for i, image in enumerate(images):\n",
    "    plt.subplot(Row, Column, i+1)\n",
    "    plt.title('Label = {}'.format(classes[labels[i]]))\n",
    "    plt.imshow(image, cmap='gray')\n",
    "    plt.axis('off')\n",
    "plt.show()"
   ]
  },
  {
   "cell_type": "markdown",
   "metadata": {},
   "source": [
    "### 2. 전처리"
   ]
  },
  {
   "cell_type": "code",
   "execution_count": 4,
   "metadata": {},
   "outputs": [
    {
     "name": "stdout",
     "output_type": "stream",
     "text": [
      "(50000, 1, 28, 28) (5000, 1, 28, 28)\n",
      "(50000,) (5000,)\n"
     ]
    }
   ],
   "source": [
    "image_size = 28  # notMNIST 데이터는 이미지 크기가 28x28이였죠?\n",
    "num_labels = 10  # 클래스 개수는 10개구요.\n",
    "\n",
    "# 트레이닝셋, 테스트셋 이미지들의 차원 배치를 좀 바꿔줍니다.\n",
    "\n",
    "x_train = train_dataset.reshape(-1, 1, 28, 28)  # 왜 1일까요?\n",
    "x_test = test_dataset.reshape(-1, 1, 28, 28)\n",
    "\n",
    "y_train = train_labels\n",
    "y_test = test_labels\n",
    "\n",
    "print(x_train.shape, x_test.shape)\n",
    "print(y_train.shape, y_test.shape)"
   ]
  },
  {
   "cell_type": "markdown",
   "metadata": {},
   "source": [
    "### 3. tensor로 바꿔주기"
   ]
  },
  {
   "cell_type": "code",
   "execution_count": 5,
   "metadata": {},
   "outputs": [],
   "source": [
    "x_train = torch.tensor(x_train)\n",
    "y_train = torch.tensor(y_train, dtype=torch.int64)  # 라벨이니까 정수지요?\n",
    "\n",
    "x_test = torch.tensor(x_test)\n",
    "y_test = torch.tensor(y_test, dtype=torch.int64)"
   ]
  },
  {
   "cell_type": "markdown",
   "metadata": {},
   "source": [
    "### 4. data loader에 넣어주기"
   ]
  },
  {
   "cell_type": "code",
   "execution_count": 6,
   "metadata": {},
   "outputs": [],
   "source": [
    "train_set = torch.utils.data.TensorDataset(x_train, y_train)\n",
    "test_set = torch.utils.data.TensorDataset(x_test, y_test)\n",
    "\n",
    "batch_size = 16\n",
    "train_loader = torch.utils.data.DataLoader(dataset=train_set, \n",
    "                                           batch_size=batch_size, \n",
    "                                           shuffle=True)\n",
    "test_loader = torch.utils.data.DataLoader(dataset=test_set, \n",
    "                                          batch_size=batch_size, \n",
    "                                          shuffle=False)"
   ]
  },
  {
   "cell_type": "markdown",
   "metadata": {},
   "source": [
    "## 학습 이미지 예시 보기"
   ]
  },
  {
   "cell_type": "code",
   "execution_count": 7,
   "metadata": {},
   "outputs": [
    {
     "data": {
      "image/png": "[encoded data removed]",
      "text/plain": [
       "<Figure size 432x288 with 1 Axes>"
      ]
     },
     "metadata": {
      "needs_background": "light"
     },
     "output_type": "display_data"
    },
    {
     "name": "stdout",
     "output_type": "stream",
     "text": [
      "    H     G     B     E     A     F     D     E\n"
     ]
    }
   ],
   "source": [
    "import matplotlib.pyplot as plt\n",
    "import numpy as np\n",
    "\n",
    "# functions to show an image\n",
    "def imshow(img):\n",
    "    img = img + 0.5     # 아까 앞에서 normalize해줘서 색깔 이미지가 이상해져있을 거기 때문에 보기 편하라고 다시 unnormalize해줍니다\n",
    "    npimg = img.numpy()\n",
    "    plt.imshow(np.transpose(npimg, (1, 2, 0)))\n",
    "    plt.show()\n",
    "\n",
    "# get some random training images\n",
    "dataiter = iter(train_loader)\n",
    "images, labels = dataiter.next()\n",
    "\n",
    "# show images\n",
    "imshow(torchvision.utils.make_grid(images[:8]))\n",
    "# print labels\n",
    "print(' '.join('%5s' % classes[labels[j]] for j in range(8)))"
   ]
  },
  {
   "cell_type": "markdown",
   "metadata": {},
   "source": [
    "# 딥러닝 모델을 학습시키기 위해 준비되어야 할 4가지 요소\n",
    "\n",
    "1. 데이터\n",
    "\n",
    "**2. 모델**\n",
    "3. Loss function (손실함수, 목적함수, objective function 등으로 불려요): 정답과 모델의 예측값을 어떤 식으로 비교할지 결정해주는 함수\n",
    "4. Optimizer: gradient descent를 해줄 애. 즉, 모델의 파라미터를 어느 방향으로 조금 수정할지 결정하고 수정해주는 함수"
   ]
  },
  {
   "cell_type": "markdown",
   "metadata": {},
   "source": [
    "## 모델 정의하기"
   ]
  },
  {
   "cell_type": "code",
   "execution_count": 8,
   "metadata": {},
   "outputs": [],
   "source": [
    "import torch.nn as nn\n",
    "\n",
    "class Net(nn.Module):\n",
    "    def __init__(self):\n",
    "        super(Net, self).__init__()\n",
    "        # 1 input image channel, 6 output channels, 3x3 square convolution\n",
    "        self.conv1 = nn.Conv2d(1, 6, 3, stride=1, padding=1)  # yes, zero padding. \n",
    "        self.pool = nn.MaxPool2d(2, 2)\n",
    "        self.relu = nn.ReLU()\n",
    "        ############### TODO: fc layer를 완성 해보세요 ################\n",
    "        \n",
    "        self.fc = nn.Linear(14 * 14 * 6, 10)\n",
    "        \n",
    "        ########################################################\n",
    "\n",
    "\n",
    "    def forward(self, x):\n",
    "        x = self.conv1(x)\n",
    "        x = self.relu(x)\n",
    "        x = self.pool(x)\n",
    "        # print(\"view 이전 x의 모양: \", x.shape)\n",
    "        \n",
    "        # 위 3줄을 줄여서 표현한 게 아래예요.\n",
    "        # x = self.pool(self.relu(self.conv1(x)))\n",
    "\n",
    "        ############### TODO: 빈칸을 완성 해보세요 ################\n",
    "        \n",
    "        x = x.view(-1, 14 * 14 * 6)  # 얘의 기능은 텐서의 모양을 원하는 모양으로 바꿔주는 거예요\n",
    "        # 예시: x가 만약 (16, 3, 12, 12) 모양이었다면 x.view(-1, 144)는 (48, 144) 모양으로 바꿔준답니다. -1은 나머지 숫자를 자동으로 채워주는 역할이에요\n",
    "\n",
    "        # print(\"view 이후 x의 모양: \", x.shape)\n",
    "        \n",
    "        ########################################################\n",
    "        x = self.fc(x)\n",
    "\n",
    "        return x\n",
    "    \n",
    "\n",
    "net = Net()"
   ]
  },
  {
   "cell_type": "markdown",
   "metadata": {},
   "source": [
    "# 딥러닝 모델을 학습시키기 위해 준비되어야 할 4가지 요소\n",
    "\n",
    "1. 데이터\n",
    "2. 모델\n",
    "\n",
    "**3. Loss function (손실함수, 목적함수, objective function 등으로 불려요)**: 정답과 모델의 예측값을 어떤 식으로 비교할지 결정해주는 함수\n",
    "\n",
    "**4. Optimizer**: gradient descent를 해줄 애. 즉, 모델의 파라미터를 어느 방향으로 조금 수정할지 결정하고 수정해주는 함수"
   ]
  },
  {
   "cell_type": "markdown",
   "metadata": {},
   "source": [
    "## Loss function과 Optimizer 정의하기\n",
    "\n",
    "Cross-entropy loss function과 SGD optimizer를 씁니다.\n"
   ]
  },
  {
   "cell_type": "code",
   "execution_count": 9,
   "metadata": {},
   "outputs": [],
   "source": [
    "import torch.optim as optim\n",
    "\n",
    "criterion = nn.CrossEntropyLoss()\n",
    "optimizer = optim.SGD(net.parameters(), lr=0.001, momentum=0.9)"
   ]
  },
  {
   "cell_type": "markdown",
   "metadata": {},
   "source": [
    "# 모델 학습시키기\n",
    "\n",
    "이제\n",
    "* data loader\n",
    "* model\n",
    "* loss function\n",
    "* optimizer\n",
    "\n",
    "이 4가지가 모두 준비되었으니 학습을 할 준비가 끝났습니다.\n",
    "\n",
    "```\n",
    "종료 조건 만족할 때까지 아래를 반복:\n",
    "    1. 우리의 data loader로부터 데이터를 받아와서 모델에 넣어주고\n",
    "    2. 모델의 출력 값을 받아서 \n",
    "    3. loss function 값을 계산하고\n",
    "    4. 그 loss를 바탕으로 backprop(=gradient를 계산) 해준 뒤 \n",
    "    5. optimizer가 gradient descent를 1 step 진행합니다.\n",
    "    ```"
   ]
  },
  {
   "cell_type": "code",
   "execution_count": 10,
   "metadata": {},
   "outputs": [],
   "source": [
    "loss_history = []  # 우리 모델이 어떻게 학습되는지, loss가 잘 떨어지는지 확인하기 위해 매 step loss를 저장해놓을 배열"
   ]
  },
  {
   "cell_type": "code",
   "execution_count": 11,
   "metadata": {},
   "outputs": [
    {
     "name": "stdout",
     "output_type": "stream",
     "text": [
      "[1,   300] loss: 1.701\n",
      "[1,   600] loss: 0.832\n",
      "[1,   900] loss: 0.749\n",
      "[1,  1200] loss: 0.724\n",
      "[1,  1500] loss: 0.707\n",
      "[1,  1800] loss: 0.674\n",
      "[1,  2100] loss: 0.707\n",
      "[1,  2400] loss: 0.670\n",
      "[1,  2700] loss: 0.687\n",
      "[1,  3000] loss: 0.670\n",
      "[2,   300] loss: 0.642\n",
      "[2,   600] loss: 0.646\n",
      "[2,   900] loss: 0.660\n",
      "[2,  1200] loss: 0.636\n",
      "[2,  1500] loss: 0.647\n",
      "[2,  1800] loss: 0.654\n",
      "[2,  2100] loss: 0.588\n",
      "[2,  2400] loss: 0.630\n",
      "[2,  2700] loss: 0.605\n",
      "[2,  3000] loss: 0.602\n",
      "학습 끝!\n"
     ]
    }
   ],
   "source": [
    "for epoch in range(2):  # 전체 데이터셋을 몇 번 반복할 건지\n",
    "\n",
    "    running_loss = 0.0\n",
    "    for i, data in enumerate(train_loader, 0):\n",
    "        # data에는 이미지와 정답 라벨이 들어있죠?\n",
    "        inputs, labels = data\n",
    "        \n",
    "        # Batch_dim, Channel_dim, Height, Width: BCHW라고 줄여서 말하기도 합니다. 또는 NCHW\n",
    "        # inputs의 모양은 (16, 1, 28, 28)일 거예요. batch_size 16개, channel 1개, height, width 각 28.\n",
    "        # 흔히 이걸 batch_first 형태라고 해요.\n",
    "        \n",
    "        # 매 반복마다 이전 gradient를 한 번 지워줍니다.\n",
    "        optimizer.zero_grad()\n",
    "\n",
    "        # 모델에 데이터 넣어서 forward 해주고 \n",
    "        # backprop(=backward)으로 이번 input에 대해 gradient를 계산해주고\n",
    "        # optimizer가 gradient descent 1스텝 진행\n",
    "        outputs = net(inputs)\n",
    "        loss = criterion(outputs, labels)\n",
    "        loss.backward()\n",
    "        optimizer.step()\n",
    "        \n",
    "        # 결과치 화면에 뿌려주기\n",
    "        running_loss += loss.item()\n",
    "        if i % 300 == 299:    \n",
    "            \n",
    "            # 300 미니배치마다 트레이닝셋에 대한 loss값 출력\n",
    "            print('[%d, %5d] loss: %.3f' %\n",
    "                  (epoch + 1, i + 1, running_loss / 300))\n",
    "            \n",
    "            # 나중에 시각화를 위해 중간중간 따로 loss값 저장\n",
    "            loss_history.append(running_loss / 300)\n",
    "            running_loss = 0.0\n",
    "            \n",
    "print('학습 끝!')"
   ]
  },
  {
   "cell_type": "markdown",
   "metadata": {},
   "source": [
    "### 학습 경과 살펴보기"
   ]
  },
  {
   "cell_type": "markdown",
   "metadata": {},
   "source": [
    "사실 저렇게 출력된 숫자들만 보면 감이 잘 오지 않는 거 같아요 그쵸?<br/>\n",
    "그래서 그래프로 트레이닝셋에 대해 loss가 잘 떨어지는지 살펴보는 게 필요해요<br/>\n",
    "우리가 방금 위에서 정의한 loss_history 배열에는 학습 중간중간 저장해놓았던 트레이닝셋에 대한 loss 값들이 있어요. <br/>\n",
    "얘를 시각화 해볼게요"
   ]
  },
  {
   "cell_type": "code",
   "execution_count": 12,
   "metadata": {},
   "outputs": [
    {
     "data": {
      "image/png": "[encoded data removed]",
      "text/plain": [
       "<Figure size 432x288 with 1 Axes>"
      ]
     },
     "metadata": {
      "needs_background": "light"
     },
     "output_type": "display_data"
    }
   ],
   "source": [
    "plt.plot(loss_history) \n",
    "plt.title('Training Loss', fontsize=20)  # 여기에 한글을 넣고 싶으시다구요? 그럼 좀 귀찮은 몇 가지 작업들을 해야 합니다... 그러므로 패스\n",
    "plt.xlabel('Iteration',fontsize=16)\n",
    "plt.ylabel('Loss',fontsize=16)\n",
    "plt.show()"
   ]
  },
  {
   "cell_type": "markdown",
   "metadata": {},
   "source": [
    "## 모델 저장하기\n",
    "\n",
    "학습이 끝난 모델의 파라미터를 저장해두면 나중에 필요할 때 불러와서 가져다 쓰면 바로 사용할 수 있어요."
   ]
  },
  {
   "cell_type": "code",
   "execution_count": 13,
   "metadata": {},
   "outputs": [],
   "source": [
    "PATH = './notmnist_net.pth'\n",
    "torch.save(net.state_dict(), PATH)"
   ]
  },
  {
   "cell_type": "markdown",
   "metadata": {},
   "source": [
    "## 테스트셋에 검증해보기\n",
    "\n",
    "이제 모델 학습이 끝났으니 테스트 데이터에도 잘하는지 확인을 해봐야 합니다. <br/>\n",
    "테스트셋 데이터 중 몇 개나 맞히는지 알아볼까요?"
   ]
  },
  {
   "cell_type": "code",
   "execution_count": 14,
   "metadata": {},
   "outputs": [
    {
     "data": {
      "image/png": "[encoded data removed]",
      "text/plain": [
       "<Figure size 432x288 with 1 Axes>"
      ]
     },
     "metadata": {
      "needs_background": "light"
     },
     "output_type": "display_data"
    }
   ],
   "source": [
    "# 테스트셋 이미지 예시도 심심풀이로 한 번 확인해보기\n",
    "# functions to show an image\n",
    "def imshow(img):\n",
    "    img = img + 0.5     # 아까 앞에서 normalize해줘서 색깔 이미지가 이상해져있을 거기 때문에 보기 편하라고 다시 unnormalize해줍니다\n",
    "    npimg = img.numpy()\n",
    "    plt.imshow(np.transpose(npimg, (1, 2, 0)))\n",
    "    plt.show()\n",
    "\n",
    "dataiter = iter(test_loader)\n",
    "images, labels = dataiter.next()\n",
    "\n",
    "imshow(torchvision.utils.make_grid(images))"
   ]
  },
  {
   "cell_type": "markdown",
   "metadata": {},
   "source": [
    "### 아까 저장해뒀던 모델 파라미터 불러오기\n",
    "\n",
    "사실 굳이 불러오지 않고 그냥 위에 있는 `net` 그대로 써도 되지만 <br/>\n",
    "일단 어떻게 저장하고 불러오는지 여러분이 알아둬야 하니까 여기서는 `net`에 굳이 다시 불러와봤어요"
   ]
  },
  {
   "cell_type": "code",
   "execution_count": 15,
   "metadata": {},
   "outputs": [
    {
     "data": {
      "text/plain": [
       "<All keys matched successfully>"
      ]
     },
     "execution_count": 15,
     "metadata": {},
     "output_type": "execute_result"
    }
   ],
   "source": [
    "net = Net()\n",
    "net.load_state_dict(torch.load(PATH))"
   ]
  },
  {
   "cell_type": "markdown",
   "metadata": {},
   "source": [
    "### 불러온 모델로 예측해보기\n",
    "\n",
    "이미지들을 넣었을 때 모델이 뭐라고 예측하는지 한 번 확인해볼게요."
   ]
  },
  {
   "cell_type": "code",
   "execution_count": 16,
   "metadata": {},
   "outputs": [
    {
     "data": {
      "text/plain": [
       "tensor([[ 8.7714e-01,  3.7600e-01, -2.5586e+00, -1.1580e+00, -2.7952e+00,\n",
       "         -4.9715e+00,  1.0240e+00,  5.0874e-03,  2.3082e+00,  6.5314e+00],\n",
       "        [-3.1869e+00,  2.2402e+00, -2.2053e+00, -1.5314e+00,  4.0656e+00,\n",
       "          7.7970e+00, -2.1975e+00,  1.8792e+00, -1.3726e+00, -6.1925e+00],\n",
       "        [-1.4275e+00, -5.7899e-01,  8.7527e-02, -3.8345e+00,  2.7322e+00,\n",
       "          8.3386e-01,  5.1358e+00, -1.6005e+00, -8.8128e-01, -1.4768e+00],\n",
       "        [-1.3453e+00, -2.9054e-01, -7.4025e-01, -1.8076e+00,  2.0790e+00,\n",
       "         -7.0417e-01, -1.4833e+00, -1.0055e+00,  6.0463e+00,  1.1141e+00],\n",
       "        [-4.4549e-01,  1.4204e+00, -1.0189e+00, -8.1573e-01,  1.0966e+00,\n",
       "         -4.5996e-01, -1.1962e+00,  2.3889e+00,  4.8227e-03, -1.9545e-01],\n",
       "        [ 2.3152e+00, -2.7824e-03, -2.3059e+00, -1.4851e+00,  1.0641e+00,\n",
       "         -1.5820e+00, -5.5741e-01,  3.6619e+00,  4.5282e-01, -2.0153e-01],\n",
       "        [-1.4819e+00,  7.5427e-01,  4.4874e-01, -1.3639e+00,  2.4320e+00,\n",
       "         -7.5170e-01,  1.4532e-01,  4.3943e-01,  3.5922e+00, -2.0541e+00],\n",
       "        [-3.0396e+00,  1.1070e+00,  6.4359e+00, -2.9621e-01,  1.6504e+00,\n",
       "         -3.5599e+00,  2.8904e+00, -3.7930e+00,  2.8685e-01, -2.6965e+00],\n",
       "        [-1.8346e-01,  3.5216e+00,  7.4592e-01,  1.3006e-01,  1.2907e+00,\n",
       "         -1.1419e+00,  3.3999e+00, -2.4105e+00, -1.5675e+00, -1.9954e+00],\n",
       "        [ 1.4137e+00,  1.4988e+00, -6.0236e+00, -2.2808e+00,  1.8305e+00,\n",
       "         -6.0853e-01, -1.1348e+00,  6.7416e+00,  2.8099e-02, -1.8573e+00],\n",
       "        [ 3.9758e-01,  5.9448e+00, -3.0355e+00, -8.8582e-01,  2.2114e+00,\n",
       "          3.8253e-01, -1.2982e-01, -1.7054e+00, -1.0468e+00, -1.2341e+00],\n",
       "        [-2.2795e-01,  7.6131e-01, -2.4983e+00,  6.2281e-02, -1.0438e+00,\n",
       "         -1.8834e+00, -2.8497e-01,  1.1548e+00,  3.9349e+00, -2.5198e-01],\n",
       "        [ 2.7429e-01,  5.2546e-01, -1.1446e+00, -1.5463e+00,  1.7385e+00,\n",
       "         -1.7712e+00, -6.2195e-01, -1.9530e+00,  4.9564e+00,  4.8689e-01],\n",
       "        [-6.3066e-01,  6.6328e-01, -2.6750e-01, -1.0726e+00,  8.0313e-01,\n",
       "         -9.6956e-01,  4.9511e+00, -1.8091e+00, -1.4237e+00, -8.5478e-01],\n",
       "        [-1.5900e+00,  3.1262e+00, -4.1435e+00,  5.8687e+00, -2.0560e+00,\n",
       "         -1.1872e+00, -1.8544e+00,  1.1157e+00,  4.1287e-01, -6.9574e-01],\n",
       "        [-7.8050e-01,  4.9139e-01, -1.2210e+00, -2.1724e+00,  3.1479e-01,\n",
       "          1.4507e+00, -2.5252e+00, -3.5741e+00,  5.1300e+00,  3.0359e+00]],\n",
       "       grad_fn=<AddmmBackward>)"
      ]
     },
     "execution_count": 16,
     "metadata": {},
     "output_type": "execute_result"
    }
   ],
   "source": [
    "outputs = net(images)\n",
    "outputs"
   ]
  },
  {
   "cell_type": "markdown",
   "metadata": {},
   "source": [
    "뭔지 전혀 모르겠죠? <br/>\n",
    "각 row에 있는 숫자들은 10개의 클래스에 대한 logit 값이에요. (확률 값이 아니라) <br/>\n",
    "어떤 인덱스의 logit값이 크면 모델은 그 해당 인덱스의 클래스로 해당 이미지를 분류한다는 의미입니다. <br/>\n",
    "따라서 그냥 이 logit 값들 중 제일 큰 logit이 있는 index를 각 row마다 뽑아오면 됩니다. <br/>"
   ]
  },
  {
   "cell_type": "code",
   "execution_count": 17,
   "metadata": {},
   "outputs": [
    {
     "name": "stdout",
     "output_type": "stream",
     "text": [
      "모델 예측:      J     F     G     I     H     H     I     C\n"
     ]
    }
   ],
   "source": [
    "_, predicted = torch.max(outputs, 1)  # 1번째 차원(=각 row)에서 각각 max인 값과 해당 index를 뽑아옵니다.\n",
    "\n",
    "classes = ['A', 'B', 'C', 'D', 'E', 'F','G', 'H', 'I', 'J']\n",
    "\n",
    "print('모델 예측: ', ' '.join('%5s' % classes[predicted[j]]\n",
    "                              for j in range(8)))"
   ]
  },
  {
   "cell_type": "markdown",
   "metadata": {},
   "source": [
    "#### 역시 원래 이미지랑 같이 봐야 감이 올 거 같죠?"
   ]
  },
  {
   "cell_type": "code",
   "execution_count": 18,
   "metadata": {},
   "outputs": [
    {
     "data": {
      "image/png": "[encoded data removed]",
      "text/plain": [
       "<Figure size 432x288 with 1 Axes>"
      ]
     },
     "metadata": {
      "needs_background": "light"
     },
     "output_type": "display_data"
    },
    {
     "name": "stdout",
     "output_type": "stream",
     "text": [
      "실제 정답:      J     F     G     I     H     A     I     C\n",
      "모델 예측:      J     F     G     I     H     H     I     C\n"
     ]
    }
   ],
   "source": [
    "imshow(torchvision.utils.make_grid(images[:8]))\n",
    "print('실제 정답: ', ' '.join('%5s' % classes[labels[j]] for j in range(8)))\n",
    "print('모델 예측: ', ' '.join('%5s' % classes[predicted[j]]\n",
    "                              for j in range(8)))"
   ]
  },
  {
   "cell_type": "markdown",
   "metadata": {},
   "source": [
    "매우 잘 맞히는 거 같습니다! <br/>\n",
    "그러면 이제 전체 테스트셋에 대해 정답과 비교해서 몇 개나 맞히는지 보겠습니다. "
   ]
  },
  {
   "cell_type": "markdown",
   "metadata": {},
   "source": [
    "### 테스트셋 정답률 확인해보기"
   ]
  },
  {
   "cell_type": "code",
   "execution_count": 19,
   "metadata": {},
   "outputs": [
    {
     "name": "stdout",
     "output_type": "stream",
     "text": [
      "10000개의 테스트 이미지에 대한 정답률: 89 %\n"
     ]
    }
   ],
   "source": [
    "correct = 0\n",
    "total = 0\n",
    "with torch.no_grad():\n",
    "    for data in test_loader:\n",
    "        images, labels = data\n",
    "        outputs = net(images)\n",
    "        _, predicted = torch.max(outputs.data, 1)\n",
    "        total += labels.size(0)\n",
    "        correct += (predicted == labels).sum().item()\n",
    "\n",
    "print('10000개의 테스트 이미지에 대한 정답률: %d %%' % (\n",
    "    100 * correct / total))"
   ]
  },
  {
   "cell_type": "markdown",
   "metadata": {},
   "source": [
    "### 각 클래스 별 정답률 확인해보기"
   ]
  },
  {
   "cell_type": "code",
   "execution_count": 20,
   "metadata": {},
   "outputs": [
    {
     "name": "stdout",
     "output_type": "stream",
     "text": [
      "    A 클래스의 정답률 : 89 %\n",
      "    B 클래스의 정답률 : 95 %\n",
      "    C 클래스의 정답률 : 90 %\n",
      "    D 클래스의 정답률 : 88 %\n",
      "    E 클래스의 정답률 : 84 %\n",
      "    F 클래스의 정답률 : 94 %\n",
      "    G 클래스의 정답률 : 90 %\n",
      "    H 클래스의 정답률 : 85 %\n",
      "    I 클래스의 정답률 : 87 %\n",
      "    J 클래스의 정답률 : 92 %\n"
     ]
    }
   ],
   "source": [
    "class_correct = list(0. for i in range(10))\n",
    "class_total = list(0. for i in range(10))\n",
    "\n",
    "with torch.no_grad():  # 매우매우 중요! 테스트셋으로 학습하는 건 반칙입니다. 테스트셋으로 backprop을 하면 안 되지요.\n",
    "    for data in test_loader:\n",
    "        images, labels = data\n",
    "        outputs = net(images)\n",
    "        _, predicted = torch.max(outputs, 1)\n",
    "        c = (predicted == labels).squeeze()\n",
    "        for i in range(4):\n",
    "            label = labels[i]\n",
    "            class_correct[label] += c[i].item()\n",
    "            class_total[label] += 1\n",
    "\n",
    "for i in range(10):\n",
    "    print('%5s 클래스의 정답률 : %2d %%' % (\n",
    "        classes[i], 100 * class_correct[i] / class_total[i]))"
   ]
  },
  {
   "cell_type": "markdown",
   "metadata": {},
   "source": [
    "# 딥러닝 끝!"
   ]
  }
 ],
 "metadata": {
  "kernelspec": {
   "display_name": "Python 3",
   "language": "python",
   "name": "python3"
  },
  "language_info": {
   "codemirror_mode": {
    "name": "ipython",
    "version": 3
   },
   "file_extension": ".py",
   "mimetype": "text/x-python",
   "name": "python",
   "nbconvert_exporter": "python",
   "pygments_lexer": "ipython3",
   "version": "3.6.13"
  }
 },
 "nbformat": 4,
 "nbformat_minor": 1
}
