{
 "cells": [
  {
   "cell_type": "markdown",
   "metadata": {
    "id": "rTnRy6ffpeVi"
   },
   "source": [
    "# Value Iteration"
   ]
  },
  {
   "cell_type": "markdown",
   "metadata": {
    "id": "oEIEtBKBpp4W"
   },
   "source": [
    "## Import library & Create modified environment"
   ]
  },
  {
   "cell_type": "code",
   "execution_count": 1,
   "metadata": {
    "id": "SQe66rx-BFcj"
   },
   "outputs": [],
   "source": [
    "import gym\n",
    "from gym.envs.registration import register\n",
    "# DO NOT RUN TWICE OR YOU'LL GET AN ERROR => SOLVE BY RESTARTING RUNTIME (\"Runtime\" -> \"Restart Runtime\")\n",
    "register(id='FrozenLakeDeterministic-v0', \n",
    "         entry_point='gym.envs.toy_text:FrozenLakeEnv', \n",
    "         kwargs={'map_name': '4x4', \n",
    "                 'is_slippery': False}, \n",
    "         max_episode_steps=100)"
   ]
  },
  {
   "cell_type": "markdown",
   "metadata": {
    "id": "hnobrulop7fV"
   },
   "source": [
    "## Modified FrozenLake-v0's MDP"
   ]
  },
  {
   "cell_type": "code",
   "execution_count": 2,
   "metadata": {
    "id": "jFt9GFNXB-df"
   },
   "outputs": [
    {
     "name": "stdout",
     "output_type": "stream",
     "text": [
      "Observation space:\tDiscrete(16)\n",
      "Action space:\t\tDiscrete(4)\n",
      "--------------------\n",
      "Number of states: 16\n",
      "Number of actions: 4\n",
      "--------------------\n",
      "All states: [0, 1, 2, 3, 4, 5, 6, 7, 8, 9, 10, 11, 12, 13, 14, 15]\n",
      "All actions: [0, 1, 2, 3]\n",
      "--------------------\n",
      "Transition matrix:\n",
      "{0: {0: [(1.0, 0, 0.0, False)], 1: [(1.0, 4, 0.0, False)], 2: [(1.0, 1, 0.0, False)], 3: [(1.0, 0, 0.0, False)]}, 1: {0: [(1.0, 0, 0.0, False)], 1: [(1.0, 5, 0.0, True)], 2: [(1.0, 2, 0.0, False)], 3: [(1.0, 1, 0.0, False)]}, 2: {0: [(1.0, 1, 0.0, False)], 1: [(1.0, 6, 0.0, False)], 2: [(1.0, 3, 0.0, False)], 3: [(1.0, 2, 0.0, False)]}, 3: {0: [(1.0, 2, 0.0, False)], 1: [(1.0, 7, 0.0, True)], 2: [(1.0, 3, 0.0, False)], 3: [(1.0, 3, 0.0, False)]}, 4: {0: [(1.0, 4, 0.0, False)], 1: [(1.0, 8, 0.0, False)], 2: [(1.0, 5, 0.0, True)], 3: [(1.0, 0, 0.0, False)]}, 5: {0: [(1.0, 5, 0, True)], 1: [(1.0, 5, 0, True)], 2: [(1.0, 5, 0, True)], 3: [(1.0, 5, 0, True)]}, 6: {0: [(1.0, 5, 0.0, True)], 1: [(1.0, 10, 0.0, False)], 2: [(1.0, 7, 0.0, True)], 3: [(1.0, 2, 0.0, False)]}, 7: {0: [(1.0, 7, 0, True)], 1: [(1.0, 7, 0, True)], 2: [(1.0, 7, 0, True)], 3: [(1.0, 7, 0, True)]}, 8: {0: [(1.0, 8, 0.0, False)], 1: [(1.0, 12, 0.0, True)], 2: [(1.0, 9, 0.0, False)], 3: [(1.0, 4, 0.0, False)]}, 9: {0: [(1.0, 8, 0.0, False)], 1: [(1.0, 13, 0.0, False)], 2: [(1.0, 10, 0.0, False)], 3: [(1.0, 5, 0.0, True)]}, 10: {0: [(1.0, 9, 0.0, False)], 1: [(1.0, 14, 0.0, False)], 2: [(1.0, 11, 0.0, True)], 3: [(1.0, 6, 0.0, False)]}, 11: {0: [(1.0, 11, 0, True)], 1: [(1.0, 11, 0, True)], 2: [(1.0, 11, 0, True)], 3: [(1.0, 11, 0, True)]}, 12: {0: [(1.0, 12, 0, True)], 1: [(1.0, 12, 0, True)], 2: [(1.0, 12, 0, True)], 3: [(1.0, 12, 0, True)]}, 13: {0: [(1.0, 12, 0.0, True)], 1: [(1.0, 13, 0.0, False)], 2: [(1.0, 14, 0.0, False)], 3: [(1.0, 9, 0.0, False)]}, 14: {0: [(1.0, 13, 0.0, False)], 1: [(1.0, 14, 0.0, False)], 2: [(1.0, 15, 1.0, True)], 3: [(1.0, 10, 0.0, False)]}, 15: {0: [(1.0, 15, 0, True)], 1: [(1.0, 15, 0, True)], 2: [(1.0, 15, 0, True)], 3: [(1.0, 15, 0, True)]}}\n",
      "Transition matrix with current state = 0\n",
      "{0: [(1.0, 0, 0.0, False)], 1: [(1.0, 4, 0.0, False)], 2: [(1.0, 1, 0.0, False)], 3: [(1.0, 0, 0.0, False)]}\n",
      "Transition matrix with current state = 0, action = 0\n",
      "[(1.0, 0, 0.0, False)]\n",
      "Note that this environment is deterministic! That is, for a given state and action, the next state is determined!\n",
      "--------------------\n",
      "4x4 map\n",
      "\n",
      "\u001b[41mS\u001b[0mFFF\n",
      "FHFH\n",
      "FFFH\n",
      "HFFG\n"
     ]
    }
   ],
   "source": [
    "env = gym.make('FrozenLakeDeterministic-v0')\n",
    "print(\"Observation space:\\t{}\".format(env.observation_space))\n",
    "print(\"Action space:\\t\\t{}\".format(env.action_space))\n",
    "\n",
    "print('-'*20)\n",
    "\n",
    "num_states = env.nS\n",
    "print(\"Number of states: {}\".format(num_states))\n",
    "num_actions = env.nA\n",
    "print(\"Number of actions: {}\".format(num_actions))\n",
    "\n",
    "print('-'*20)\n",
    "\n",
    "all_states = [i for i in range(num_states)]\n",
    "print(\"All states: {}\".format(all_states))\n",
    "all_actions = [i for i in range(num_actions)]\n",
    "print(\"All actions: {}\".format(all_actions))\n",
    "\n",
    "print('-'*20)\n",
    "\n",
    "probability_matrix = env.P\n",
    "print(\"Transition matrix:\")\n",
    "print(env.P)\n",
    "print(\"Transition matrix with current state = 0\")\n",
    "print(env.P[0])\n",
    "print(\"Transition matrix with current state = 0, action = 0\")\n",
    "print(env.P[0][0])\n",
    "print(\"Note that this environment is deterministic! That is, for a given state and action, the next state is determined!\")\n",
    "\n",
    "print('-'*20)\n",
    "print(\"4x4 map\")\n",
    "obs = env.render()"
   ]
  },
  {
   "cell_type": "markdown",
   "metadata": {
    "id": "vGciq9PBqKBr"
   },
   "source": [
    "## Random Action"
   ]
  },
  {
   "cell_type": "code",
   "execution_count": 4,
   "metadata": {
    "id": "lNdGP6jFBjjA"
   },
   "outputs": [
    {
     "name": "stdout",
     "output_type": "stream",
     "text": [
      "##########\n",
      "Timestep 0\n",
      "Observation: 0\n",
      "##########\n",
      "\n",
      "\u001b[41mS\u001b[0mFFF\n",
      "FHFH\n",
      "FFFH\n",
      "HFFG\n",
      "##########\n",
      "Action: 1\n",
      "##########\n",
      "---------------\n",
      "##########\n",
      "Timestep 1\n",
      "Observation: 4\n",
      "##########\n",
      "  (Down)\n",
      "SFFF\n",
      "\u001b[41mF\u001b[0mHFH\n",
      "FFFH\n",
      "HFFG\n",
      "##########\n",
      "Action: 1\n",
      "##########\n",
      "---------------\n",
      "##########\n",
      "Timestep 2\n",
      "Observation: 8\n",
      "##########\n",
      "  (Down)\n",
      "SFFF\n",
      "FHFH\n",
      "\u001b[41mF\u001b[0mFFH\n",
      "HFFG\n",
      "##########\n",
      "Action: 2\n",
      "##########\n",
      "---------------\n",
      "##########\n",
      "Timestep 3\n",
      "Observation: 9\n",
      "##########\n",
      "  (Right)\n",
      "SFFF\n",
      "FHFH\n",
      "F\u001b[41mF\u001b[0mFH\n",
      "HFFG\n",
      "##########\n",
      "Action: 0\n",
      "##########\n",
      "---------------\n",
      "##########\n",
      "Timestep 4\n",
      "Observation: 8\n",
      "##########\n",
      "  (Left)\n",
      "SFFF\n",
      "FHFH\n",
      "\u001b[41mF\u001b[0mFFH\n",
      "HFFG\n",
      "##########\n",
      "Action: 0\n",
      "##########\n",
      "---------------\n",
      "##########\n",
      "Timestep 5\n",
      "Observation: 8\n",
      "##########\n",
      "  (Left)\n",
      "SFFF\n",
      "FHFH\n",
      "\u001b[41mF\u001b[0mFFH\n",
      "HFFG\n",
      "##########\n",
      "Action: 3\n",
      "##########\n",
      "---------------\n",
      "##########\n",
      "Timestep 6\n",
      "Observation: 4\n",
      "##########\n",
      "  (Up)\n",
      "SFFF\n",
      "\u001b[41mF\u001b[0mHFH\n",
      "FFFH\n",
      "HFFG\n",
      "##########\n",
      "Action: 2\n",
      "##########\n",
      "---------------\n",
      "Done!\n",
      "  (Right)\n",
      "SFFF\n",
      "F\u001b[41mH\u001b[0mFH\n",
      "FFFH\n",
      "HFFG\n",
      "Total reward of 0.00 for 7 number of steps\n"
     ]
    }
   ],
   "source": [
    "env = gym.make('FrozenLakeDeterministic-v0')\n",
    "obs = env.reset()\n",
    "total_reward = 0\n",
    "num_steps = 0\n",
    "while True:\n",
    "    print('#'*10)\n",
    "    print(\"Timestep {}\".format(num_steps))\n",
    "    print(\"Observation: {}\".format(obs))\n",
    "    print('#'*10)\n",
    "    env.render()\n",
    "    random_action = env.action_space.sample()\n",
    "    print('#'*10)\n",
    "    print(\"Action: {}\".format(random_action))\n",
    "    print('#'*10)\n",
    "    obs, reward, done, info = env.step(random_action)\n",
    "    total_reward += reward\n",
    "    num_steps += 1\n",
    "    print('-'*15)\n",
    "    if done is True:\n",
    "        print(\"Done!\")\n",
    "        break\n",
    "env.render()\n",
    "env.close()\n",
    "print(\"Total reward of {:.2f} for {} number of steps\".format(total_reward, num_steps))"
   ]
  },
  {
   "cell_type": "markdown",
   "metadata": {
    "id": "Ja-SraXvqP0c"
   },
   "source": [
    "## Value Iteration Algorithm\n",
    "For all states, <br>\n",
    "$V_{0}(s)=0$<br>\n",
    "$V_{t+1}(s)=R(s)+\\gamma\\max_{a\\in A(s)}\\sum_{s'}P(s'|s, a)V_{t}(s')$<br>\n",
    "NOTE: In this modified environment, $P(s'|s,a)=1$ for all states and actions $s,a$<br>\n",
    "Thus, for this special case, we can simply use the following update:<br>\n",
    "$V_{t+1}(s)=R(s)+\\gamma\\max_{a\\in A(s)}V_{t}(s'(s,a))$<br>\n",
    ", where $s'$ is simply the next state returned given some state and action pair"
   ]
  },
  {
   "cell_type": "code",
   "execution_count": 5,
   "metadata": {
    "id": "Q8xOtqD_E0iQ"
   },
   "outputs": [
    {
     "name": "stdout",
     "output_type": "stream",
     "text": [
      "Current value table:\n",
      "\t {0: 0, 1: 0, 2: 0, 3: 0, 4: 0, 5: 0, 6: 0, 7: 0, 8: 0, 9: 0, 10: 0, 11: 0, 12: 0, 13: 0, 14: 0, 15: 0}\n",
      "Current optimal policy table:\n",
      "\t {0: None, 1: None, 2: None, 3: None, 4: None, 5: None, 6: None, 7: None, 8: None, 9: None, 10: None, 11: None, 12: None, 13: None, 14: None, 15: None}\n"
     ]
    }
   ],
   "source": [
    "# Initialize values and optimal policy for all states\n",
    "values = {}\n",
    "optimal_policy = {}\n",
    "for state in all_states:\n",
    "    values[state] = 0\n",
    "    optimal_policy[state] = None\n",
    "\n",
    "print(\"Current value table:\")\n",
    "print('\\t', values)\n",
    "print(\"Current optimal policy table:\")\n",
    "print('\\t', optimal_policy)"
   ]
  },
  {
   "cell_type": "code",
   "execution_count": 7,
   "metadata": {
    "id": "aJAdvUFfHKg5"
   },
   "outputs": [
    {
     "name": "stdout",
     "output_type": "stream",
     "text": [
      "Iteration: 100/1000 \t\t0.0067s\n",
      "Iteration: 200/1000 \t\t0.0135s\n",
      "Iteration: 300/1000 \t\t0.0202s\n",
      "Iteration: 400/1000 \t\t0.0269s\n",
      "Iteration: 500/1000 \t\t0.0337s\n",
      "Iteration: 600/1000 \t\t0.0405s\n",
      "Iteration: 700/1000 \t\t0.0475s\n",
      "Iteration: 800/1000 \t\t0.0545s\n",
      "Iteration: 900/1000 \t\t0.0621s\n",
      "Iteration: 1000/1000 \t\t0.0705s\n",
      "----------------------------------------\n",
      "Current value table:\n",
      "\t {0: 0.9516311429240483, 1: 0.9612371030240482, 2: 0.9709400930240484, 3: 0.9612371030240482, 4: 0.9612371030240482, 5: 0.00021369767468275617, 6: 0.9807410930240482, 7: 0.00029917674455585903, 8: 0.9709400930240484, 9: 0.9807410930240482, 10: 0.9906410930240481, 11: 0.0004701348843020647, 12: 0.0005128744192386156, 13: 0.9906410930240481, 14: 1.0006410930240484, 15: 0.0006410930240482708}\n",
      "Current optimal policy table:\n",
      "\t {0: 1, 1: 2, 2: 1, 3: 0, 4: 1, 5: 0, 6: 1, 7: 0, 8: 2, 9: 1, 10: 1, 11: 0, 12: 0, 13: 2, 14: 2, 15: 0}\n"
     ]
    }
   ],
   "source": [
    "# Value iteration\n",
    "env = gym.make('FrozenLakeDeterministic-v0')\n",
    "env.reset()\n",
    "\n",
    "num_iters = 1000\n",
    "gamma = 0.99\n",
    "\n",
    "from copy import deepcopy\n",
    "import time\n",
    "import math\n",
    "\n",
    "start_time = time.time()\n",
    "for it in range(num_iters):\n",
    "    old_values = deepcopy(values)\n",
    "    for state in all_states:\n",
    "        best_value = -math.inf\n",
    "        best_action = None\n",
    "        for action in all_actions:\n",
    "            ##### TO IMPLEMENT #####\n",
    "            prob, next_state, reward, done = env.P[state][action][0]\n",
    "            new_value = reward + gamma * old_values[next_state]\n",
    "            if new_value > best_value:\n",
    "                best_value = new_value\n",
    "                best_action = action\n",
    "                values[state] = best_value\n",
    "                optimal_policy[state] = best_action\n",
    "            ########################\n",
    "    if (it+1) % 100 == 0:\n",
    "        time_taken = time.time() - start_time\n",
    "        print(\"Iteration: {}/{} \\t\\t{:.4f}s\".format(it+1, num_iters, time_taken))\n",
    "\n",
    "print('-'*40)\n",
    "print(\"Current value table:\")\n",
    "print('\\t', values)\n",
    "print(\"Current optimal policy table:\")\n",
    "print('\\t', optimal_policy)"
   ]
  },
  {
   "cell_type": "code",
   "execution_count": 8,
   "metadata": {
    "id": "PegeWgI4Kcrj"
   },
   "outputs": [
    {
     "name": "stdout",
     "output_type": "stream",
     "text": [
      "##########\n",
      "Timestep 0\n",
      "Observation: 5\n",
      "##########\n",
      "\n",
      "\u001b[41mS\u001b[0mFFF\n",
      "FHFH\n",
      "FFFH\n",
      "HFFG\n",
      "##########\n",
      "Optimal action: 1\n",
      "##########\n",
      "---------------\n",
      "##########\n",
      "Timestep 1\n",
      "Observation: 5\n",
      "##########\n",
      "  (Down)\n",
      "SFFF\n",
      "\u001b[41mF\u001b[0mHFH\n",
      "FFFH\n",
      "HFFG\n",
      "##########\n",
      "Optimal action: 1\n",
      "##########\n",
      "---------------\n",
      "##########\n",
      "Timestep 2\n",
      "Observation: 5\n",
      "##########\n",
      "  (Down)\n",
      "SFFF\n",
      "FHFH\n",
      "\u001b[41mF\u001b[0mFFH\n",
      "HFFG\n",
      "##########\n",
      "Optimal action: 2\n",
      "##########\n",
      "---------------\n",
      "##########\n",
      "Timestep 3\n",
      "Observation: 5\n",
      "##########\n",
      "  (Right)\n",
      "SFFF\n",
      "FHFH\n",
      "F\u001b[41mF\u001b[0mFH\n",
      "HFFG\n",
      "##########\n",
      "Optimal action: 1\n",
      "##########\n",
      "---------------\n",
      "##########\n",
      "Timestep 4\n",
      "Observation: 5\n",
      "##########\n",
      "  (Down)\n",
      "SFFF\n",
      "FHFH\n",
      "FFFH\n",
      "H\u001b[41mF\u001b[0mFG\n",
      "##########\n",
      "Optimal action: 2\n",
      "##########\n",
      "---------------\n",
      "##########\n",
      "Timestep 5\n",
      "Observation: 5\n",
      "##########\n",
      "  (Right)\n",
      "SFFF\n",
      "FHFH\n",
      "FFFH\n",
      "HF\u001b[41mF\u001b[0mG\n",
      "##########\n",
      "Optimal action: 2\n",
      "##########\n",
      "---------------\n",
      "Done!\n",
      "Total reward of 1.00 for 6 number of steps\n"
     ]
    }
   ],
   "source": [
    "# Evaluation\n",
    "env = gym.make('FrozenLakeDeterministic-v0')\n",
    "state = env.reset()\n",
    "total_reward = 0\n",
    "num_steps = 0\n",
    "while True:\n",
    "    print('#'*10)\n",
    "    print(\"Timestep {}\".format(num_steps))\n",
    "    print(\"Observation: {}\".format(obs))\n",
    "    print('#'*10)\n",
    "    env.render()\n",
    "    optimal_action = optimal_policy[state]\n",
    "    print('#'*10)\n",
    "    print(\"Optimal action: {}\".format(optimal_action))\n",
    "    print('#'*10)\n",
    "    state, reward, done, info = env.step(optimal_action)\n",
    "    total_reward += reward\n",
    "    num_steps += 1\n",
    "    print('-'*15)\n",
    "    if done is True:\n",
    "        print(\"Done!\")\n",
    "        break\n",
    "env.close()\n",
    "print(\"Total reward of {:.2f} for {} number of steps\".format(total_reward, num_steps))"
   ]
  },
  {
   "cell_type": "markdown",
   "metadata": {
    "id": "yp9q3Tgmu454"
   },
   "source": [
    "## (Optional) Solve bigger map!"
   ]
  },
  {
   "cell_type": "code",
   "execution_count": null,
   "metadata": {
    "id": "F6OI1ZHPMKNk"
   },
   "outputs": [],
   "source": [
    "# Try with the following map!\n",
    "random_map = gym.envs.toy_text.frozen_lake.generate_random_map(size=64)\n",
    "env = gym.make(\"FrozenLakeDeterministic-v0\", desc=random_map)\n",
    "env.reset()\n",
    "env.render()"
   ]
  }
 ],
 "metadata": {
  "colab": {
   "collapsed_sections": [
    "yp9q3Tgmu454"
   ],
   "name": "Value_Iteration",
   "provenance": [],
   "toc_visible": true
  },
  "kernelspec": {
   "display_name": "Python 3",
   "language": "python",
   "name": "python3"
  },
  "language_info": {
   "codemirror_mode": {
    "name": "ipython",
    "version": 3
   },
   "file_extension": ".py",
   "mimetype": "text/x-python",
   "name": "python",
   "nbconvert_exporter": "python",
   "pygments_lexer": "ipython3",
   "version": "3.6.13"
  }
 },
 "nbformat": 4,
 "nbformat_minor": 1
}
